{
 "cells": [
  {
   "cell_type": "markdown",
   "metadata": {},
   "source": [
    "# Calculate correlations between two datasets - Luthando"
   ]
  },
  {
   "cell_type": "markdown",
   "metadata": {},
   "source": [
    "**Input file**: .csv table contains samples in columns and features in rows. First column is sample name."
   ]
  },
  {
   "cell_type": "markdown",
   "metadata": {},
   "source": [
    "**Parameters**:"
   ]
  },
  {
   "cell_type": "code",
   "execution_count": 1,
   "metadata": {},
   "outputs": [],
   "source": [
    "input_file <- \"count_table_Luthando.csv\"\n",
    "rows_ds1 <- 1:12498 # which rows (not including header) contain dataset1?\n",
    "rows_ds2 <- 12499:13824 # which rows (not including header) contain dataset2?\n",
    "prev_filt <- 0.1 # minimum % of samples that a feature must be observed in\n",
    "norm_ds1 <- TRUE # do you want to normalize the first dataset?\n",
    "norm_ds2 <- FALSE # do you want to normalize the second dataset?\n",
    "scale_features <- TRUE # do you want to scale prior to correlation?\n",
    "padj_meth <- \"bonferroni\" # method to adjust for multiple hypothesis tests (can change to \"BH\" to be less stringent)\n",
    "p_thresh <- 0.05 # alpha for adjusted pvalues"
   ]
  },
  {
   "cell_type": "markdown",
   "metadata": {},
   "source": [
    "## Load libraries"
   ]
  },
  {
   "cell_type": "code",
   "execution_count": 2,
   "metadata": {},
   "outputs": [
    {
     "name": "stderr",
     "output_type": "stream",
     "text": [
      "Warning message in install.packages(\"Hmisc\"):\n",
      "“installation of package ‘Hmisc’ had non-zero exit status”Updating HTML index of packages in '.Library'\n",
      "Making 'packages.html' ... done\n"
     ]
    }
   ],
   "source": [
    "install.packages(\"Hmisc\")"
   ]
  },
  {
   "cell_type": "code",
   "execution_count": 3,
   "metadata": {},
   "outputs": [
    {
     "name": "stderr",
     "output_type": "stream",
     "text": [
      "Updating HTML index of packages in '.Library'\n",
      "Making 'packages.html' ... done\n"
     ]
    }
   ],
   "source": [
    "install.packages(\"corrplot\")"
   ]
  },
  {
   "cell_type": "code",
   "execution_count": 4,
   "metadata": {},
   "outputs": [
    {
     "name": "stderr",
     "output_type": "stream",
     "text": [
      "Warning message:\n",
      "“package ‘d3heatmap’ is not available (for R version 3.6.1)”"
     ]
    }
   ],
   "source": [
    "install.packages('d3heatmap')"
   ]
  },
  {
   "cell_type": "code",
   "execution_count": 5,
   "metadata": {},
   "outputs": [
    {
     "name": "stderr",
     "output_type": "stream",
     "text": [
      "Updating HTML index of packages in '.Library'\n",
      "Making 'packages.html' ... done\n"
     ]
    }
   ],
   "source": [
    "install.packages(\"devtools\")"
   ]
  },
  {
   "cell_type": "code",
   "execution_count": 9,
   "metadata": {},
   "outputs": [
    {
     "name": "stderr",
     "output_type": "stream",
     "text": [
      "Downloading GitHub repo rstudio/d3heatmap@HEAD\n"
     ]
    },
    {
     "name": "stdout",
     "output_type": "stream",
     "text": [
      "stringi (1.4.3 -> 1.8.3) [CRAN]\n",
      "stringr (1.4.0 -> 1.5.1) [CRAN]\n"
     ]
    },
    {
     "name": "stderr",
     "output_type": "stream",
     "text": [
      "Installing 2 packages: stringi, stringr\n",
      "Warning message in i.p(...):\n",
      "“installation of package ‘stringi’ had non-zero exit status”Warning message in i.p(...):\n",
      "“installation of package ‘stringr’ had non-zero exit status”Updating HTML index of packages in '.Library'\n",
      "Making 'packages.html' ... done\n"
     ]
    },
    {
     "name": "stdout",
     "output_type": "stream",
     "text": [
      "── R CMD build ─────────────────────────────────────────────────────────────────\n",
      "* checking for file ‘/private/var/folders/mk/s89dd3_s1g3df6ctgmxs75r80000gn/T/RtmpZBysX2/remotes81374bb2e90a/talgalili-d3heatmap-c8a3c64/DESCRIPTION’ ... OK\n",
      "* preparing ‘d3heatmap’:\n",
      "* checking DESCRIPTION meta-information ... OK\n",
      "* checking for LF line-endings in source and make files and shell scripts\n",
      "* checking for empty or unneeded directories\n",
      "* building ‘d3heatmap_0.9.0.tar.gz’\n",
      "\n"
     ]
    }
   ],
   "source": [
    "if (!require(\"devtools\")) install.packages(\"devtools\")\n",
    "devtools::install_github(\"rstudio/d3heatmap\", force = TRUE)"
   ]
  },
  {
   "cell_type": "code",
   "execution_count": 10,
   "metadata": {},
   "outputs": [
    {
     "name": "stderr",
     "output_type": "stream",
     "text": [
      "\n",
      "======================\n",
      "Welcome to d3heatmap version 0.9.0\n",
      "\n",
      "Type citation('d3heatmap') for how to cite the package.\n",
      "Type ?d3heatmap for the main documentation.\n",
      "\n",
      "The github page is: https://github.com/talgalili/d3heatmap/\n",
      "Please submit your suggestions and bug-reports at: https://github.com/talgalili/d3heatmap/issues\n",
      "You may ask questions at stackoverflow, use the r and d3heatmap tags: \n",
      "\t https://stackoverflow.com/questions/tagged/d3heatmap\n",
      "======================\n",
      "\n",
      "\n",
      "Attaching package: ‘d3heatmap’\n",
      "\n",
      "The following objects are masked from ‘package:base’:\n",
      "\n",
      "    print, save\n",
      "\n",
      "Loading required package: lattice\n",
      "Loading required package: survival\n",
      "Loading required package: Formula\n",
      "Loading required package: ggplot2\n",
      "\n",
      "Attaching package: ‘Hmisc’\n",
      "\n",
      "The following objects are masked from ‘package:base’:\n",
      "\n",
      "    format.pval, units\n",
      "\n"
     ]
    },
    {
     "ename": "ERROR",
     "evalue": "Error in value[[3L]](cond): Package ‘htmlwidgets’ version 1.5.3 cannot be unloaded:\n Error in unloadNamespace(package) : namespace ‘htmlwidgets’ is imported by ‘d3heatmap’, ‘profvis’, ‘htmlTable’ so cannot be unloaded\n\n",
     "output_type": "error",
     "traceback": [
      "Error in value[[3L]](cond): Package ‘htmlwidgets’ version 1.5.3 cannot be unloaded:\n Error in unloadNamespace(package) : namespace ‘htmlwidgets’ is imported by ‘d3heatmap’, ‘profvis’, ‘htmlTable’ so cannot be unloaded\n\nTraceback:\n",
      "1. library(htmlwidgets)",
      "2. tryCatch(unloadNamespace(package), error = function(e) {\n .     P <- if (!is.null(cc <- conditionCall(e))) \n .         paste(\"Error in\", deparse(cc)[1L], \": \")\n .     else \"Error : \"\n .     stop(gettextf(\"Package %s version %s cannot be unloaded:\\n %s\", \n .         sQuote(package), oldversion, paste0(P, conditionMessage(e), \n .             \"\\n\")), domain = NA)\n . })",
      "3. tryCatchList(expr, classes, parentenv, handlers)",
      "4. tryCatchOne(expr, names, parentenv, handlers[[1L]])",
      "5. value[[3L]](cond)",
      "6. stop(gettextf(\"Package %s version %s cannot be unloaded:\\n %s\", \n .     sQuote(package), oldversion, paste0(P, conditionMessage(e), \n .         \"\\n\")), domain = NA)"
     ]
    }
   ],
   "source": [
    "library(d3heatmap)\n",
    "library(Hmisc)\n",
    "library(pheatmap)\n",
    "library(reshape2)\n",
    "library(RColorBrewer)"
   ]
  },
  {
   "cell_type": "code",
   "execution_count": 36,
   "metadata": {},
   "outputs": [],
   "source": [
    "library(pheatmap)"
   ]
  },
  {
   "cell_type": "code",
   "execution_count": 45,
   "metadata": {},
   "outputs": [],
   "source": [
    "library(RColorBrewer)"
   ]
  },
  {
   "cell_type": "code",
   "execution_count": 49,
   "metadata": {},
   "outputs": [
    {
     "name": "stderr",
     "output_type": "stream",
     "text": [
      "Updating HTML index of packages in '.Library'\n",
      "Making 'packages.html' ... done\n"
     ]
    }
   ],
   "source": [
    "install.packages(\"htmlwidgets\")"
   ]
  },
  {
   "cell_type": "code",
   "execution_count": 51,
   "metadata": {},
   "outputs": [
    {
     "ename": "ERROR",
     "evalue": "Error in value[[3L]](cond): Package ‘htmlwidgets’ version 1.5.3 cannot be unloaded:\n Error in unloadNamespace(package) : namespace ‘htmlwidgets’ is imported by ‘profvis’, ‘d3heatmap’, ‘htmlTable’ so cannot be unloaded\n\n",
     "output_type": "error",
     "traceback": [
      "Error in value[[3L]](cond): Package ‘htmlwidgets’ version 1.5.3 cannot be unloaded:\n Error in unloadNamespace(package) : namespace ‘htmlwidgets’ is imported by ‘profvis’, ‘d3heatmap’, ‘htmlTable’ so cannot be unloaded\n\nTraceback:\n",
      "1. library(htmlwidgets)",
      "2. tryCatch(unloadNamespace(package), error = function(e) {\n .     P <- if (!is.null(cc <- conditionCall(e))) \n .         paste(\"Error in\", deparse(cc)[1L], \": \")\n .     else \"Error : \"\n .     stop(gettextf(\"Package %s version %s cannot be unloaded:\\n %s\", \n .         sQuote(package), oldversion, paste0(P, conditionMessage(e), \n .             \"\\n\")), domain = NA)\n . })",
      "3. tryCatchList(expr, classes, parentenv, handlers)",
      "4. tryCatchOne(expr, names, parentenv, handlers[[1L]])",
      "5. value[[3L]](cond)",
      "6. stop(gettextf(\"Package %s version %s cannot be unloaded:\\n %s\", \n .     sQuote(package), oldversion, paste0(P, conditionMessage(e), \n .         \"\\n\")), domain = NA)"
     ]
    }
   ],
   "source": [
    "library(htmlwidgets)"
   ]
  },
  {
   "cell_type": "markdown",
   "metadata": {},
   "source": [
    "## Read in data"
   ]
  },
  {
   "cell_type": "code",
   "execution_count": 11,
   "metadata": {},
   "outputs": [],
   "source": [
    "data <- read.csv('correlation-table-metabolotes-and-microbes.csv')"
   ]
  },
  {
   "cell_type": "markdown",
   "metadata": {},
   "source": [
    "Check that the row numbers provided are correct"
   ]
  },
  {
   "cell_type": "code",
   "execution_count": 12,
   "metadata": {},
   "outputs": [
    {
     "name": "stderr",
     "output_type": "stream",
     "text": [
      "Looks good!\n"
     ]
    }
   ],
   "source": [
    "if (nrow(data) == length(c(rows_ds1, rows_ds2))) {message(\"Looks good!\")} else message(\"Check row numbers again\")"
   ]
  },
  {
   "cell_type": "markdown",
   "metadata": {},
   "source": [
    "## Format data"
   ]
  },
  {
   "cell_type": "code",
   "execution_count": 13,
   "metadata": {},
   "outputs": [],
   "source": [
    "datat <- t(data) # transpose so that samples are in rows and features are in columns\n",
    "colnames(datat)<- datat[1,] # feature names are now the first row, make this row the column names\n",
    "datat <- datat[-1,] # then remove it\n",
    "datat <- as.data.frame(datat,stringsAsFactors=F)\n",
    "datat <- as.data.frame(sapply(datat, as.numeric)) # make all values numeric\n",
    "rownames(datat) <- colnames(data)[-1] # use sample names as row names"
   ]
  },
  {
   "cell_type": "markdown",
   "metadata": {},
   "source": [
    "## Separate the two datasets for filtering/normalization"
   ]
  },
  {
   "cell_type": "code",
   "execution_count": 14,
   "metadata": {},
   "outputs": [],
   "source": [
    "ds1 <- datat[,rows_ds1]\n",
    "ds2 <- datat[,rows_ds2]"
   ]
  },
  {
   "cell_type": "markdown",
   "metadata": {},
   "source": [
    "## Prevalence filter"
   ]
  },
  {
   "cell_type": "markdown",
   "metadata": {},
   "source": [
    "Since there are so many features, we can reduce the number based on how many samples have the feature. For example, if the cutoff is 10%, we only keep features observed in at least 10% of samples"
   ]
  },
  {
   "cell_type": "code",
   "execution_count": 15,
   "metadata": {},
   "outputs": [],
   "source": [
    "ds1_filt <- ds1[,apply(ds1, 2, function(x) {sum(x > 0) > prev_filt*nrow(ds1)})]\n",
    "ds2_filt <- ds2[,apply(ds2, 2, function(x) {sum(x > 0) > prev_filt*nrow(ds2)})]"
   ]
  },
  {
   "cell_type": "markdown",
   "metadata": {},
   "source": [
    "## Normalize data by total sum scaling"
   ]
  },
  {
   "cell_type": "markdown",
   "metadata": {},
   "source": [
    "In the original code, they added 1 to every feature but I'm not sure why?"
   ]
  },
  {
   "cell_type": "code",
   "execution_count": 16,
   "metadata": {},
   "outputs": [],
   "source": [
    "if (norm_ds1) {\n",
    "  ds1_norm <- t(apply(ds1_filt, 1, function(x) {x/sum(x)})) # for each sample (row) divide each feature by the sum of all features\n",
    "} else ds1_norm <- ds1_filt\n",
    "\n",
    "if (norm_ds2) {\n",
    "  ds2_norm <- t(apply(ds2_filt, 1, function(x) {x/sum(x)})) \n",
    "} else ds2_norm <- ds2_filt"
   ]
  },
  {
   "cell_type": "markdown",
   "metadata": {},
   "source": [
    "## Scale data"
   ]
  },
  {
   "cell_type": "code",
   "execution_count": 17,
   "metadata": {},
   "outputs": [],
   "source": [
    "if (scale_features) {\n",
    "  ds1_norm <- scale(ds1_norm)\n",
    "  ds2_norm <- scale(ds2_norm)\n",
    "}"
   ]
  },
  {
   "cell_type": "markdown",
   "metadata": {},
   "source": [
    "## Calculate correlations between ds1 (x) and ds2 (y)"
   ]
  },
  {
   "cell_type": "code",
   "execution_count": 18,
   "metadata": {},
   "outputs": [],
   "source": [
    "cor_mat <- Hmisc::rcorr(x = as(ds1_norm, \"matrix\"), y = as(ds2_norm, \"matrix\"), type = \"spearman\") # spearman recommended for microbiome data\n",
    "\n",
    "# get correlations\n",
    "cor_r <- cor_mat$r[1:ncol(ds1_norm), -c(1:ncol(ds1_norm))] # removing ds1~ds1 and ds2~ds2 correlations, so we only keep ds1~ds2 correlations\n",
    "# get pvalues\n",
    "cor_p <- cor_mat$P[1:ncol(ds1_norm), -c(1:ncol(ds1_norm))]"
   ]
  },
  {
   "cell_type": "code",
   "execution_count": 19,
   "metadata": {},
   "outputs": [
    {
     "data": {
      "text/html": [
       "<table>\n",
       "<thead><tr><th></th><th scope=col>4</th><th scope=col>880</th><th scope=col>2198</th><th scope=col>27</th><th scope=col>28</th><th scope=col>5</th><th scope=col>7</th><th scope=col>2363</th><th scope=col>49</th><th scope=col>254</th><th scope=col>...</th><th scope=col>1012</th><th scope=col>2024</th><th scope=col>11135</th><th scope=col>6603</th><th scope=col>15498</th><th scope=col>9608</th><th scope=col>932</th><th scope=col>5186</th><th scope=col>10315</th><th scope=col>823</th></tr></thead>\n",
       "<tbody>\n",
       "\t<tr><th scope=row>otu1</th><td>-0.5356732  </td><td>-0.01037816 </td><td> 0.02868335 </td><td> 0.003219058</td><td> 0.035395158</td><td>-0.33271644 </td><td>-0.4335985  </td><td> 0.02693218 </td><td> 0.10076193 </td><td>-0.10070149 </td><td>...         </td><td>-0.2473697  </td><td>-0.37542074 </td><td>-0.10145908 </td><td> 0.03908713 </td><td>-0.14931738 </td><td>-0.16897739 </td><td>-0.3100802  </td><td>-0.07267444 </td><td>-0.09000281 </td><td>-0.2099107  </td></tr>\n",
       "\t<tr><th scope=row>otu2</th><td>-0.1406552  </td><td> 0.37540059 </td><td> 0.37072580 </td><td>-0.098744196</td><td> 0.004965540</td><td>-0.03071643 </td><td>-0.1319483  </td><td> 0.38878209 </td><td>-0.36614979 </td><td>-0.09011957 </td><td>...         </td><td>-0.1108467  </td><td>-0.05660550 </td><td> 0.10538415 </td><td>-0.07031278 </td><td> 0.01558691 </td><td>-0.23388217 </td><td>-0.2342669  </td><td>-0.08699772 </td><td>-0.11861631 </td><td> 0.2446781  </td></tr>\n",
       "\t<tr><th scope=row>otu3</th><td> 0.4452875  </td><td>-0.11345851 </td><td>-0.13928093 </td><td>-0.084727958</td><td>-0.199878274</td><td> 0.42072850 </td><td> 0.4284049  </td><td>-0.13007368 </td><td> 0.22559229 </td><td>-0.09520589 </td><td>...         </td><td> 0.1313637  </td><td> 0.23282781 </td><td>-0.15853148 </td><td>-0.22859427 </td><td>-0.10741110 </td><td>-0.08290114 </td><td> 0.3930917  </td><td>-0.25725502 </td><td>-0.17760257 </td><td> 0.1273792  </td></tr>\n",
       "\t<tr><th scope=row>otu4</th><td>-0.2616893  </td><td> 0.19554730 </td><td> 0.18028565 </td><td>-0.052573443</td><td>-0.004305487</td><td>-0.07726866 </td><td>-0.2025936  </td><td> 0.21076941 </td><td>-0.09322276 </td><td>-0.05558261 </td><td>...         </td><td>-0.1503024  </td><td>-0.08485505 </td><td> 0.05611578 </td><td>-0.05567953 </td><td> 0.03301835 </td><td>-0.28033829 </td><td>-0.2624764  </td><td>-0.10971826 </td><td>-0.25382258 </td><td> 0.1431418  </td></tr>\n",
       "\t<tr><th scope=row>otu5</th><td> 0.3096594  </td><td> 0.04762462 </td><td> 0.05249167 </td><td> 0.096175001</td><td>-0.036887426</td><td> 0.27111882 </td><td> 0.3859864  </td><td> 0.04996912 </td><td>-0.10178343 </td><td> 0.19845456 </td><td>...         </td><td> 0.2465520  </td><td> 0.25264212 </td><td> 0.13688553 </td><td> 0.22158266 </td><td> 0.19633248 </td><td> 0.37943761 </td><td> 0.2924864  </td><td> 0.07486702 </td><td> 0.34350458 </td><td> 0.1255736  </td></tr>\n",
       "\t<tr><th scope=row>otu6</th><td>-0.3511984  </td><td> 0.03125327 </td><td> 0.06727812 </td><td>-0.128675579</td><td> 0.038461449</td><td>-0.34027374 </td><td>-0.4402230  </td><td> 0.05951486 </td><td>-0.04502685 </td><td>-0.04499033 </td><td>...         </td><td>-0.2001739  </td><td>-0.42567499 </td><td>-0.17834037 </td><td>-0.05831405 </td><td>-0.09991162 </td><td>-0.08699266 </td><td>-0.3546300  </td><td> 0.02575924 </td><td> 0.04885874 </td><td>-0.2471561  </td></tr>\n",
       "</tbody>\n",
       "</table>\n"
      ],
      "text/latex": [
       "\\begin{tabular}{r|llllllllllllllllllllllllllllllllllllllllllllllllllllllllllllllllllllllllllllllllllllllllllllllllllllllllllllllllllllllllllllllllllllllllllllllllllllllllllllllllllllllllllllllllllllllllllllllllllllllllllllllllllllllllllllllllllllllllllllllllllllllllllllllllllllllllllllllllllllllllllllllllllllllllllllllllllllllllllllllllllllllllllllllllllllllllllllllllllllllllllllllllllllllllllllllllllllllllllllllllllllllllllllllllllllllllllllllllllllllllllllllllllllllllllllllllllllllllllllllllllllllllllllllllllllllllllllllllllllllllllllllllllllllllllllllllllllllllllllllllllllllllllllllllllllllllllllllllllllllllllllllllllllllllllllllllllllllllllllllllllllllllllllllllllllllllllllllllllllllllllllllllllllllllllllllllllllllllllllllllllllllllllllllllllllllllllllllllllllllllllllllllllllllllllllllllllllllllllllllllllllllllllllllllllllllllllllllllllllllllllllllllllllllllllllllllllllllllllllllllllllllllllllllllllllllllllllllllllllllllllllllllllllllllllllllllllllllllllllllllllllllllllllllllllllllllllllllllllllllllllllllllllllllllllllllllllllllllllllllllllllllllllllllllllllllllllllllllllllllllllllllllllllllllllllllllllllllllllllllllllllllllllllllllllllllllllll}\n",
       "  & 4 & 880 & 2198 & 27 & 28 & 5 & 7 & 2363 & 49 & 254 & ... & 1012 & 2024 & 11135 & 6603 & 15498 & 9608 & 932 & 5186 & 10315 & 823\\\\\n",
       "\\hline\n",
       "\totu1 & -0.5356732   & -0.01037816  &  0.02868335  &  0.003219058 &  0.035395158 & -0.33271644  & -0.4335985   &  0.02693218  &  0.10076193  & -0.10070149  & ...          & -0.2473697   & -0.37542074  & -0.10145908  &  0.03908713  & -0.14931738  & -0.16897739  & -0.3100802   & -0.07267444  & -0.09000281  & -0.2099107  \\\\\n",
       "\totu2 & -0.1406552   &  0.37540059  &  0.37072580  & -0.098744196 &  0.004965540 & -0.03071643  & -0.1319483   &  0.38878209  & -0.36614979  & -0.09011957  & ...          & -0.1108467   & -0.05660550  &  0.10538415  & -0.07031278  &  0.01558691  & -0.23388217  & -0.2342669   & -0.08699772  & -0.11861631  &  0.2446781  \\\\\n",
       "\totu3 &  0.4452875   & -0.11345851  & -0.13928093  & -0.084727958 & -0.199878274 &  0.42072850  &  0.4284049   & -0.13007368  &  0.22559229  & -0.09520589  & ...          &  0.1313637   &  0.23282781  & -0.15853148  & -0.22859427  & -0.10741110  & -0.08290114  &  0.3930917   & -0.25725502  & -0.17760257  &  0.1273792  \\\\\n",
       "\totu4 & -0.2616893   &  0.19554730  &  0.18028565  & -0.052573443 & -0.004305487 & -0.07726866  & -0.2025936   &  0.21076941  & -0.09322276  & -0.05558261  & ...          & -0.1503024   & -0.08485505  &  0.05611578  & -0.05567953  &  0.03301835  & -0.28033829  & -0.2624764   & -0.10971826  & -0.25382258  &  0.1431418  \\\\\n",
       "\totu5 &  0.3096594   &  0.04762462  &  0.05249167  &  0.096175001 & -0.036887426 &  0.27111882  &  0.3859864   &  0.04996912  & -0.10178343  &  0.19845456  & ...          &  0.2465520   &  0.25264212  &  0.13688553  &  0.22158266  &  0.19633248  &  0.37943761  &  0.2924864   &  0.07486702  &  0.34350458  &  0.1255736  \\\\\n",
       "\totu6 & -0.3511984   &  0.03125327  &  0.06727812  & -0.128675579 &  0.038461449 & -0.34027374  & -0.4402230   &  0.05951486  & -0.04502685  & -0.04499033  & ...          & -0.2001739   & -0.42567499  & -0.17834037  & -0.05831405  & -0.09991162  & -0.08699266  & -0.3546300   &  0.02575924  &  0.04885874  & -0.2471561  \\\\\n",
       "\\end{tabular}\n"
      ],
      "text/markdown": [
       "\n",
       "| <!--/--> | 4 | 880 | 2198 | 27 | 28 | 5 | 7 | 2363 | 49 | 254 | ... | 1012 | 2024 | 11135 | 6603 | 15498 | 9608 | 932 | 5186 | 10315 | 823 |\n",
       "|---|---|---|---|---|---|---|---|---|---|---|---|---|---|---|---|---|---|---|---|---|---|\n",
       "| otu1 | -0.5356732   | -0.01037816  |  0.02868335  |  0.003219058 |  0.035395158 | -0.33271644  | -0.4335985   |  0.02693218  |  0.10076193  | -0.10070149  | ...          | -0.2473697   | -0.37542074  | -0.10145908  |  0.03908713  | -0.14931738  | -0.16897739  | -0.3100802   | -0.07267444  | -0.09000281  | -0.2099107   |\n",
       "| otu2 | -0.1406552   |  0.37540059  |  0.37072580  | -0.098744196 |  0.004965540 | -0.03071643  | -0.1319483   |  0.38878209  | -0.36614979  | -0.09011957  | ...          | -0.1108467   | -0.05660550  |  0.10538415  | -0.07031278  |  0.01558691  | -0.23388217  | -0.2342669   | -0.08699772  | -0.11861631  |  0.2446781   |\n",
       "| otu3 |  0.4452875   | -0.11345851  | -0.13928093  | -0.084727958 | -0.199878274 |  0.42072850  |  0.4284049   | -0.13007368  |  0.22559229  | -0.09520589  | ...          |  0.1313637   |  0.23282781  | -0.15853148  | -0.22859427  | -0.10741110  | -0.08290114  |  0.3930917   | -0.25725502  | -0.17760257  |  0.1273792   |\n",
       "| otu4 | -0.2616893   |  0.19554730  |  0.18028565  | -0.052573443 | -0.004305487 | -0.07726866  | -0.2025936   |  0.21076941  | -0.09322276  | -0.05558261  | ...          | -0.1503024   | -0.08485505  |  0.05611578  | -0.05567953  |  0.03301835  | -0.28033829  | -0.2624764   | -0.10971826  | -0.25382258  |  0.1431418   |\n",
       "| otu5 |  0.3096594   |  0.04762462  |  0.05249167  |  0.096175001 | -0.036887426 |  0.27111882  |  0.3859864   |  0.04996912  | -0.10178343  |  0.19845456  | ...          |  0.2465520   |  0.25264212  |  0.13688553  |  0.22158266  |  0.19633248  |  0.37943761  |  0.2924864   |  0.07486702  |  0.34350458  |  0.1255736   |\n",
       "| otu6 | -0.3511984   |  0.03125327  |  0.06727812  | -0.128675579 |  0.038461449 | -0.34027374  | -0.4402230   |  0.05951486  | -0.04502685  | -0.04499033  | ...          | -0.2001739   | -0.42567499  | -0.17834037  | -0.05831405  | -0.09991162  | -0.08699266  | -0.3546300   |  0.02575924  |  0.04885874  | -0.2471561   |\n",
       "\n"
      ],
      "text/plain": [
       "     4          880         2198        27           28           5          \n",
       "otu1 -0.5356732 -0.01037816  0.02868335  0.003219058  0.035395158 -0.33271644\n",
       "otu2 -0.1406552  0.37540059  0.37072580 -0.098744196  0.004965540 -0.03071643\n",
       "otu3  0.4452875 -0.11345851 -0.13928093 -0.084727958 -0.199878274  0.42072850\n",
       "otu4 -0.2616893  0.19554730  0.18028565 -0.052573443 -0.004305487 -0.07726866\n",
       "otu5  0.3096594  0.04762462  0.05249167  0.096175001 -0.036887426  0.27111882\n",
       "otu6 -0.3511984  0.03125327  0.06727812 -0.128675579  0.038461449 -0.34027374\n",
       "     7          2363        49          254         ... 1012       2024       \n",
       "otu1 -0.4335985  0.02693218  0.10076193 -0.10070149 ... -0.2473697 -0.37542074\n",
       "otu2 -0.1319483  0.38878209 -0.36614979 -0.09011957 ... -0.1108467 -0.05660550\n",
       "otu3  0.4284049 -0.13007368  0.22559229 -0.09520589 ...  0.1313637  0.23282781\n",
       "otu4 -0.2025936  0.21076941 -0.09322276 -0.05558261 ... -0.1503024 -0.08485505\n",
       "otu5  0.3859864  0.04996912 -0.10178343  0.19845456 ...  0.2465520  0.25264212\n",
       "otu6 -0.4402230  0.05951486 -0.04502685 -0.04499033 ... -0.2001739 -0.42567499\n",
       "     11135       6603        15498       9608        932        5186       \n",
       "otu1 -0.10145908  0.03908713 -0.14931738 -0.16897739 -0.3100802 -0.07267444\n",
       "otu2  0.10538415 -0.07031278  0.01558691 -0.23388217 -0.2342669 -0.08699772\n",
       "otu3 -0.15853148 -0.22859427 -0.10741110 -0.08290114  0.3930917 -0.25725502\n",
       "otu4  0.05611578 -0.05567953  0.03301835 -0.28033829 -0.2624764 -0.10971826\n",
       "otu5  0.13688553  0.22158266  0.19633248  0.37943761  0.2924864  0.07486702\n",
       "otu6 -0.17834037 -0.05831405 -0.09991162 -0.08699266 -0.3546300  0.02575924\n",
       "     10315       823       \n",
       "otu1 -0.09000281 -0.2099107\n",
       "otu2 -0.11861631  0.2446781\n",
       "otu3 -0.17760257  0.1273792\n",
       "otu4 -0.25382258  0.1431418\n",
       "otu5  0.34350458  0.1255736\n",
       "otu6  0.04885874 -0.2471561"
      ]
     },
     "metadata": {},
     "output_type": "display_data"
    },
    {
     "data": {
      "text/html": [
       "<table>\n",
       "<thead><tr><th></th><th scope=col>4</th><th scope=col>880</th><th scope=col>2198</th><th scope=col>27</th><th scope=col>28</th><th scope=col>5</th><th scope=col>7</th><th scope=col>2363</th><th scope=col>49</th><th scope=col>254</th><th scope=col>...</th><th scope=col>1012</th><th scope=col>2024</th><th scope=col>11135</th><th scope=col>6603</th><th scope=col>15498</th><th scope=col>9608</th><th scope=col>932</th><th scope=col>5186</th><th scope=col>10315</th><th scope=col>823</th></tr></thead>\n",
       "<tbody>\n",
       "\t<tr><th scope=row>otu1</th><td>1.639157e-09</td><td>9.143078e-01</td><td>7.661167e-01</td><td>0.9733746   </td><td>0.7135430   </td><td>3.831333e-04</td><td>2.224754e-06</td><td>7.800215e-01</td><td>2.949169e-01</td><td>0.29520816  </td><td>...         </td><td>0.009176117 </td><td>5.315153e-05</td><td>0.29157154  </td><td>0.68516795  </td><td>0.11949283  </td><td>7.761120e-02</td><td>9.784619e-04</td><td>0.450544703 </td><td>0.3497503274</td><td>0.027736361 </td></tr>\n",
       "\t<tr><th scope=row>otu2</th><td>1.427440e-01</td><td>5.320467e-05</td><td>6.696521e-05</td><td>0.3047417   </td><td>0.9589395   </td><td>7.500665e-01</td><td>1.694130e-01</td><td>2.700453e-05</td><td>8.359279e-05</td><td>0.34912303  </td><td>...         </td><td>0.248973456 </td><td>5.569534e-01</td><td>0.27320724  </td><td>0.46543512  </td><td>0.87160572  </td><td>1.392610e-02</td><td>1.376549e-02</td><td>0.366137790 </td><td>0.2171249117</td><td>0.009990056 </td></tr>\n",
       "\t<tr><th scope=row>otu3</th><td>1.091565e-06</td><td>2.379268e-01</td><td>1.467278e-01</td><td>0.3788231   </td><td>0.0362984   </td><td>4.728233e-06</td><td>3.027102e-06</td><td>1.756082e-01</td><td>1.780561e-02</td><td>0.32248180  </td><td>...         </td><td>0.171327218 </td><td>1.437465e-02</td><td>0.09809159  </td><td>0.01630459  </td><td>0.26403586  </td><td>3.892240e-01</td><td>2.156916e-05</td><td>0.006665422 </td><td>0.0634224204</td><td>0.184802733 </td></tr>\n",
       "\t<tr><th scope=row>otu4</th><td>5.752522e-03</td><td>4.062881e-02</td><td>5.946683e-02</td><td>0.5854279   </td><td>0.9643937   </td><td>4.223543e-01</td><td>3.378650e-02</td><td>2.709080e-02</td><td>3.327094e-01</td><td>0.56411373  </td><td>...         </td><td>0.117045944 </td><td>3.781058e-01</td><td>0.56037596  </td><td>0.56343337  </td><td>0.73202222  </td><td>3.013600e-03</td><td>5.602653e-03</td><td>0.253854088 </td><td>0.0074579735</td><td>0.135744467 </td></tr>\n",
       "\t<tr><th scope=row>otu5</th><td>9.949877e-04</td><td>6.212597e-01</td><td>5.860122e-01</td><td>0.3175582   </td><td>0.7020243   </td><td>4.171432e-03</td><td>3.119091e-05</td><td>6.041668e-01</td><td>2.900237e-01</td><td>0.03767699  </td><td>...         </td><td>0.009416965 </td><td>7.749194e-03</td><td>0.15387151  </td><td>0.01999567  </td><td>0.03981315  </td><td>4.349551e-05</td><td>1.930756e-03</td><td>0.436961831 </td><td>0.0002387812</td><td>0.191157576 </td></tr>\n",
       "\t<tr><th scope=row>otu6</th><td>1.686366e-04</td><td>7.458459e-01</td><td>4.849583e-01</td><td>0.1803361   </td><td>0.6899472   </td><td>2.756011e-04</td><td>1.490886e-06</td><td>5.368295e-01</td><td>6.404370e-01</td><td>0.64070828  </td><td>...         </td><td>0.036017555 </td><td>3.551782e-06</td><td>0.06231391  </td><td>0.54509160  </td><td>0.29903148  </td><td>3.661657e-01</td><td>1.439874e-04</td><td>0.789374254 </td><td>0.6122363217</td><td>0.009238502 </td></tr>\n",
       "</tbody>\n",
       "</table>\n"
      ],
      "text/latex": [
       "\\begin{tabular}{r|llllllllllllllllllllllllllllllllllllllllllllllllllllllllllllllllllllllllllllllllllllllllllllllllllllllllllllllllllllllllllllllllllllllllllllllllllllllllllllllllllllllllllllllllllllllllllllllllllllllllllllllllllllllllllllllllllllllllllllllllllllllllllllllllllllllllllllllllllllllllllllllllllllllllllllllllllllllllllllllllllllllllllllllllllllllllllllllllllllllllllllllllllllllllllllllllllllllllllllllllllllllllllllllllllllllllllllllllllllllllllllllllllllllllllllllllllllllllllllllllllllllllllllllllllllllllllllllllllllllllllllllllllllllllllllllllllllllllllllllllllllllllllllllllllllllllllllllllllllllllllllllllllllllllllllllllllllllllllllllllllllllllllllllllllllllllllllllllllllllllllllllllllllllllllllllllllllllllllllllllllllllllllllllllllllllllllllllllllllllllllllllllllllllllllllllllllllllllllllllllllllllllllllllllllllllllllllllllllllllllllllllllllllllllllllllllllllllllllllllllllllllllllllllllllllllllllllllllllllllllllllllllllllllllllllllllllllllllllllllllllllllllllllllllllllllllllllllllllllllllllllllllllllllllllllllllllllllllllllllllllllllllllllllllllllllllllllllllllllllllllllllllllllllllllllllllllllllllllllllllllllllllllllllllllllllllllll}\n",
       "  & 4 & 880 & 2198 & 27 & 28 & 5 & 7 & 2363 & 49 & 254 & ... & 1012 & 2024 & 11135 & 6603 & 15498 & 9608 & 932 & 5186 & 10315 & 823\\\\\n",
       "\\hline\n",
       "\totu1 & 1.639157e-09 & 9.143078e-01 & 7.661167e-01 & 0.9733746    & 0.7135430    & 3.831333e-04 & 2.224754e-06 & 7.800215e-01 & 2.949169e-01 & 0.29520816   & ...          & 0.009176117  & 5.315153e-05 & 0.29157154   & 0.68516795   & 0.11949283   & 7.761120e-02 & 9.784619e-04 & 0.450544703  & 0.3497503274 & 0.027736361 \\\\\n",
       "\totu2 & 1.427440e-01 & 5.320467e-05 & 6.696521e-05 & 0.3047417    & 0.9589395    & 7.500665e-01 & 1.694130e-01 & 2.700453e-05 & 8.359279e-05 & 0.34912303   & ...          & 0.248973456  & 5.569534e-01 & 0.27320724   & 0.46543512   & 0.87160572   & 1.392610e-02 & 1.376549e-02 & 0.366137790  & 0.2171249117 & 0.009990056 \\\\\n",
       "\totu3 & 1.091565e-06 & 2.379268e-01 & 1.467278e-01 & 0.3788231    & 0.0362984    & 4.728233e-06 & 3.027102e-06 & 1.756082e-01 & 1.780561e-02 & 0.32248180   & ...          & 0.171327218  & 1.437465e-02 & 0.09809159   & 0.01630459   & 0.26403586   & 3.892240e-01 & 2.156916e-05 & 0.006665422  & 0.0634224204 & 0.184802733 \\\\\n",
       "\totu4 & 5.752522e-03 & 4.062881e-02 & 5.946683e-02 & 0.5854279    & 0.9643937    & 4.223543e-01 & 3.378650e-02 & 2.709080e-02 & 3.327094e-01 & 0.56411373   & ...          & 0.117045944  & 3.781058e-01 & 0.56037596   & 0.56343337   & 0.73202222   & 3.013600e-03 & 5.602653e-03 & 0.253854088  & 0.0074579735 & 0.135744467 \\\\\n",
       "\totu5 & 9.949877e-04 & 6.212597e-01 & 5.860122e-01 & 0.3175582    & 0.7020243    & 4.171432e-03 & 3.119091e-05 & 6.041668e-01 & 2.900237e-01 & 0.03767699   & ...          & 0.009416965  & 7.749194e-03 & 0.15387151   & 0.01999567   & 0.03981315   & 4.349551e-05 & 1.930756e-03 & 0.436961831  & 0.0002387812 & 0.191157576 \\\\\n",
       "\totu6 & 1.686366e-04 & 7.458459e-01 & 4.849583e-01 & 0.1803361    & 0.6899472    & 2.756011e-04 & 1.490886e-06 & 5.368295e-01 & 6.404370e-01 & 0.64070828   & ...          & 0.036017555  & 3.551782e-06 & 0.06231391   & 0.54509160   & 0.29903148   & 3.661657e-01 & 1.439874e-04 & 0.789374254  & 0.6122363217 & 0.009238502 \\\\\n",
       "\\end{tabular}\n"
      ],
      "text/markdown": [
       "\n",
       "| <!--/--> | 4 | 880 | 2198 | 27 | 28 | 5 | 7 | 2363 | 49 | 254 | ... | 1012 | 2024 | 11135 | 6603 | 15498 | 9608 | 932 | 5186 | 10315 | 823 |\n",
       "|---|---|---|---|---|---|---|---|---|---|---|---|---|---|---|---|---|---|---|---|---|---|\n",
       "| otu1 | 1.639157e-09 | 9.143078e-01 | 7.661167e-01 | 0.9733746    | 0.7135430    | 3.831333e-04 | 2.224754e-06 | 7.800215e-01 | 2.949169e-01 | 0.29520816   | ...          | 0.009176117  | 5.315153e-05 | 0.29157154   | 0.68516795   | 0.11949283   | 7.761120e-02 | 9.784619e-04 | 0.450544703  | 0.3497503274 | 0.027736361  |\n",
       "| otu2 | 1.427440e-01 | 5.320467e-05 | 6.696521e-05 | 0.3047417    | 0.9589395    | 7.500665e-01 | 1.694130e-01 | 2.700453e-05 | 8.359279e-05 | 0.34912303   | ...          | 0.248973456  | 5.569534e-01 | 0.27320724   | 0.46543512   | 0.87160572   | 1.392610e-02 | 1.376549e-02 | 0.366137790  | 0.2171249117 | 0.009990056  |\n",
       "| otu3 | 1.091565e-06 | 2.379268e-01 | 1.467278e-01 | 0.3788231    | 0.0362984    | 4.728233e-06 | 3.027102e-06 | 1.756082e-01 | 1.780561e-02 | 0.32248180   | ...          | 0.171327218  | 1.437465e-02 | 0.09809159   | 0.01630459   | 0.26403586   | 3.892240e-01 | 2.156916e-05 | 0.006665422  | 0.0634224204 | 0.184802733  |\n",
       "| otu4 | 5.752522e-03 | 4.062881e-02 | 5.946683e-02 | 0.5854279    | 0.9643937    | 4.223543e-01 | 3.378650e-02 | 2.709080e-02 | 3.327094e-01 | 0.56411373   | ...          | 0.117045944  | 3.781058e-01 | 0.56037596   | 0.56343337   | 0.73202222   | 3.013600e-03 | 5.602653e-03 | 0.253854088  | 0.0074579735 | 0.135744467  |\n",
       "| otu5 | 9.949877e-04 | 6.212597e-01 | 5.860122e-01 | 0.3175582    | 0.7020243    | 4.171432e-03 | 3.119091e-05 | 6.041668e-01 | 2.900237e-01 | 0.03767699   | ...          | 0.009416965  | 7.749194e-03 | 0.15387151   | 0.01999567   | 0.03981315   | 4.349551e-05 | 1.930756e-03 | 0.436961831  | 0.0002387812 | 0.191157576  |\n",
       "| otu6 | 1.686366e-04 | 7.458459e-01 | 4.849583e-01 | 0.1803361    | 0.6899472    | 2.756011e-04 | 1.490886e-06 | 5.368295e-01 | 6.404370e-01 | 0.64070828   | ...          | 0.036017555  | 3.551782e-06 | 0.06231391   | 0.54509160   | 0.29903148   | 3.661657e-01 | 1.439874e-04 | 0.789374254  | 0.6122363217 | 0.009238502  |\n",
       "\n"
      ],
      "text/plain": [
       "     4            880          2198         27        28        5           \n",
       "otu1 1.639157e-09 9.143078e-01 7.661167e-01 0.9733746 0.7135430 3.831333e-04\n",
       "otu2 1.427440e-01 5.320467e-05 6.696521e-05 0.3047417 0.9589395 7.500665e-01\n",
       "otu3 1.091565e-06 2.379268e-01 1.467278e-01 0.3788231 0.0362984 4.728233e-06\n",
       "otu4 5.752522e-03 4.062881e-02 5.946683e-02 0.5854279 0.9643937 4.223543e-01\n",
       "otu5 9.949877e-04 6.212597e-01 5.860122e-01 0.3175582 0.7020243 4.171432e-03\n",
       "otu6 1.686366e-04 7.458459e-01 4.849583e-01 0.1803361 0.6899472 2.756011e-04\n",
       "     7            2363         49           254        ... 1012       \n",
       "otu1 2.224754e-06 7.800215e-01 2.949169e-01 0.29520816 ... 0.009176117\n",
       "otu2 1.694130e-01 2.700453e-05 8.359279e-05 0.34912303 ... 0.248973456\n",
       "otu3 3.027102e-06 1.756082e-01 1.780561e-02 0.32248180 ... 0.171327218\n",
       "otu4 3.378650e-02 2.709080e-02 3.327094e-01 0.56411373 ... 0.117045944\n",
       "otu5 3.119091e-05 6.041668e-01 2.900237e-01 0.03767699 ... 0.009416965\n",
       "otu6 1.490886e-06 5.368295e-01 6.404370e-01 0.64070828 ... 0.036017555\n",
       "     2024         11135      6603       15498      9608         932         \n",
       "otu1 5.315153e-05 0.29157154 0.68516795 0.11949283 7.761120e-02 9.784619e-04\n",
       "otu2 5.569534e-01 0.27320724 0.46543512 0.87160572 1.392610e-02 1.376549e-02\n",
       "otu3 1.437465e-02 0.09809159 0.01630459 0.26403586 3.892240e-01 2.156916e-05\n",
       "otu4 3.781058e-01 0.56037596 0.56343337 0.73202222 3.013600e-03 5.602653e-03\n",
       "otu5 7.749194e-03 0.15387151 0.01999567 0.03981315 4.349551e-05 1.930756e-03\n",
       "otu6 3.551782e-06 0.06231391 0.54509160 0.29903148 3.661657e-01 1.439874e-04\n",
       "     5186        10315        823        \n",
       "otu1 0.450544703 0.3497503274 0.027736361\n",
       "otu2 0.366137790 0.2171249117 0.009990056\n",
       "otu3 0.006665422 0.0634224204 0.184802733\n",
       "otu4 0.253854088 0.0074579735 0.135744467\n",
       "otu5 0.436961831 0.0002387812 0.191157576\n",
       "otu6 0.789374254 0.6122363217 0.009238502"
      ]
     },
     "metadata": {},
     "output_type": "display_data"
    }
   ],
   "source": [
    "head(cor_r)\n",
    "head(cor_p)"
   ]
  },
  {
   "cell_type": "markdown",
   "metadata": {},
   "source": [
    "## Heatmap"
   ]
  },
  {
   "cell_type": "code",
   "execution_count": 34,
   "metadata": {},
   "outputs": [
    {
     "name": "stderr",
     "output_type": "stream",
     "text": [
      "Bioconductor version 3.10 (BiocManager 1.30.10), R 3.6.1 (2019-07-05)\n",
      "Installing package(s) 'DESeq2'\n",
      "Updating HTML index of packages in '.Library'\n",
      "Making 'packages.html' ... done\n",
      "Old packages: 'BH', 'BiocManager', 'DBI', 'DT', 'Formula', 'Hmisc',\n",
      "  'IRdisplay', 'IRkernel', 'KernSmooth', 'Matrix', 'ModelMetrics', 'RCurl',\n",
      "  'RSQLite', 'SQUAREM', 'TTR', 'askpass', 'backports', 'bit', 'bitops', 'blob',\n",
      "  'boot', 'brew', 'broom', 'caret', 'checkmate', 'class', 'clipr', 'cluster',\n",
      "  'codetools', 'covr', 'credentials', 'crosstalk', 'data.table', 'dbplyr',\n",
      "  'dichromat', 'dplyr', 'forcats', 'foreach', 'formatR', 'generics',\n",
      "  'gitcreds', 'glmnet', 'gower', 'haven', 'hexbin', 'hms', 'httr', 'ipred',\n",
      "  'iterators', 'jpeg', 'latticeExtra', 'lava', 'lubridate', 'maps', 'markdown',\n",
      "  'mgcv', 'modelr', 'nlme', 'nnet', 'numDeriv', 'pbdZMQ', 'plyr',\n",
      "  'prettyunits', 'prodlim', 'progress', 'purrr', 'quantmod', 'readr', 'readxl',\n",
      "  'recipes', 'rematch', 'repr', 'reprex', 'rex', 'rpart', 'rprojroot',\n",
      "  'rstudioapi', 'rvest', 'selectr', 'spatial', 'stringi', 'stringr',\n",
      "  'survival', 'sys', 'tidyr', 'tidyselect', 'tidyverse', 'timeDate', 'uuid',\n",
      "  'whisker', 'xts', 'zip', 'zoo'\n"
     ]
    }
   ],
   "source": [
    "if (!requireNamespace(\"BiocManager\", quietly = TRUE))\n",
    "    install.packages(\"BiocManager\")\n",
    " \n",
    "# install and load package\n",
    "BiocManager::install(\"DESeq2\")\n",
    "library(\"DESeq2\")"
   ]
  },
  {
   "cell_type": "code",
   "execution_count": 37,
   "metadata": {},
   "outputs": [],
   "source": [
    "pheatmap(t(cor_r),  clustering_method=\"ward.D\", clustering_distance_cols=\"canberra\",\n",
    "         show_colnames = TRUE,show_rownames = TRUE, cluster_rows = TRUE, cluster_cols = TRUE, fontsize = 1, \n",
    "         filename = \"corr_coef_all.pdf\")"
   ]
  },
  {
   "cell_type": "markdown",
   "metadata": {},
   "source": [
    "## Interactive heatmap"
   ]
  },
  {
   "cell_type": "markdown",
   "metadata": {},
   "source": [
    "(this file was too big to open on my laptop!)"
   ]
  },
  {
   "cell_type": "code",
   "execution_count": 46,
   "metadata": {},
   "outputs": [
    {
     "name": "stderr",
     "output_type": "stream",
     "text": [
      "Warning message in RColorBrewer::brewer.pal(n, pal):\n",
      "“n too large, allowed maximum for palette RdYlBu is 11\n",
      "Returning the palette you asked for with that many colors\n",
      "”Warning message:\n",
      "“Some values were outside the color scale and will be treated as NA”Warning message in RColorBrewer::brewer.pal(n, pal):\n",
      "“n too large, allowed maximum for palette RdYlBu is 11\n",
      "Returning the palette you asked for with that many colors\n",
      "”"
     ]
    },
    {
     "ename": "ERROR",
     "evalue": "Error in saveWidget(map, \"corr_coef_all.html\"): could not find function \"saveWidget\"\n",
     "output_type": "error",
     "traceback": [
      "Error in saveWidget(map, \"corr_coef_all.html\"): could not find function \"saveWidget\"\nTraceback:\n"
     ]
    }
   ],
   "source": [
    "map <- d3heatmap(t(cor_r), distfun=function(x) dist(x, method=\"canberra\"), \n",
    "                 hclustfun=function(x) hclust(x, method=\"ward.D\"),\n",
    "                 color = colorRampPalette(rev(brewer.pal(n = 7, name = \"RdYlBu\")))(100))\n",
    "saveWidget(map, \"corr_coef_all.html\")"
   ]
  },
  {
   "cell_type": "markdown",
   "metadata": {},
   "source": [
    "## Remove correlations with padj < alpha"
   ]
  },
  {
   "cell_type": "code",
   "execution_count": 39,
   "metadata": {},
   "outputs": [
    {
     "name": "stderr",
     "output_type": "stream",
     "text": [
      "Updating HTML index of packages in '.Library'\n",
      "Making 'packages.html' ... done\n",
      "Updating HTML index of packages in '.Library'\n",
      "Making 'packages.html' ... done\n"
     ]
    }
   ],
   "source": [
    "install.packages(\"reshape\")\n",
    "library(reshape)\n",
    "install.packages(\"reshape2\")\n",
    "library(reshape2)"
   ]
  },
  {
   "cell_type": "code",
   "execution_count": 40,
   "metadata": {},
   "outputs": [],
   "source": [
    "hold_r <- melt(cor_r) # putting all values in one column\n",
    "hold_p <- melt(cor_p)\n",
    "hold_p$padj <- p.adjust(hold_p$value, method = padj_meth) # adjust pvals for multiple hypothesis tests\n",
    "\n",
    "hold_r_sig <- hold_r[hold_p$padj < p_thresh,]\n",
    "hold_p_sig <- hold_p[hold_p$padj < p_thresh,]\n",
    "\n",
    "# new matrix with only significant correlations (insignificant correlations are set to 0)\n",
    "corr_r_sig <- dcast(hold_r_sig, Var1~Var2, fill = 0)\n",
    "row.names(corr_r_sig) <- corr_r_sig$Var1 # re-assign row names as feature names then remove that column\n",
    "corr_r_sig <- corr_r_sig[,-1]"
   ]
  },
  {
   "cell_type": "markdown",
   "metadata": {},
   "source": [
    "## Plot heatmap again"
   ]
  },
  {
   "cell_type": "code",
   "execution_count": 44,
   "metadata": {},
   "outputs": [],
   "source": [
    "pheatmap(t(corr_r_sig),  clustering_method=\"ward.D\", clustering_distance_cols=\"canberra\",\n",
    "         show_colnames = TRUE,show_rownames = TRUE, cluster_rows = TRUE, cluster_cols = TRUE, fontsize = 1, \n",
    "         filename = \"corr_coef_sig.pdf\")"
   ]
  },
  {
   "cell_type": "code",
   "execution_count": 52,
   "metadata": {},
   "outputs": [
    {
     "name": "stderr",
     "output_type": "stream",
     "text": [
      "Warning message in RColorBrewer::brewer.pal(n, pal):\n",
      "“n too large, allowed maximum for palette RdYlBu is 11\n",
      "Returning the palette you asked for with that many colors\n",
      "”Warning message:\n",
      "“Some values were outside the color scale and will be treated as NA”Warning message in RColorBrewer::brewer.pal(n, pal):\n",
      "“n too large, allowed maximum for palette RdYlBu is 11\n",
      "Returning the palette you asked for with that many colors\n",
      "”"
     ]
    },
    {
     "ename": "ERROR",
     "evalue": "Error in saveWidget(map, \"corr_coef_sig.html\"): could not find function \"saveWidget\"\n",
     "output_type": "error",
     "traceback": [
      "Error in saveWidget(map, \"corr_coef_sig.html\"): could not find function \"saveWidget\"\nTraceback:\n"
     ]
    }
   ],
   "source": [
    "map <- d3heatmap(t(corr_r_sig), distfun=function(x) dist(x, method=\"canberra\"), \n",
    "                 hclustfun=function(x) hclust(x, method=\"ward.D\"),\n",
    "                 color = colorRampPalette(rev(brewer.pal(n = 7, name = \"RdYlBu\")))(100))\n",
    "saveWidget(map, \"corr_coef_sig.html\") "
   ]
  },
  {
   "cell_type": "markdown",
   "metadata": {},
   "source": [
    "## Save tables"
   ]
  },
  {
   "cell_type": "code",
   "execution_count": 42,
   "metadata": {},
   "outputs": [],
   "source": [
    "colnames(hold_r)[3] <- \"corr_coef\" # fix column names\n",
    "colnames(hold_p)[3] <- \"pval\"\n",
    "to_save <- cbind(hold_r, hold_p[,3:4]) # join coefs and pvals\n",
    "write.csv(to_save, \"corr_coef_all.csv\", row.names = FALSE) # save table\n",
    "\n",
    "# save only correlations with significant pval\n",
    "write.csv(subset(to_save, to_save$pval < p_thresh), \"corr_coef_sig.csv\", row.names = FALSE) "
   ]
  },
  {
   "cell_type": "code",
   "execution_count": 27,
   "metadata": {},
   "outputs": [
    {
     "data": {
      "image/png": "[encoded data removed]",
      "text/plain": [
       "Plot with title “Histogram of -log10(to_save$pval)”"
      ]
     },
     "metadata": {},
     "output_type": "display_data"
    }
   ],
   "source": [
    "hist(-log10(to_save$pval),breaks=100)"
   ]
  },
  {
   "cell_type": "code",
   "execution_count": 28,
   "metadata": {},
   "outputs": [
    {
     "data": {
      "text/html": [
       "<strong>quartz_off_screen:</strong> 3"
      ],
      "text/latex": [
       "\\textbf{quartz\\textbackslash{}\\_off\\textbackslash{}\\_screen:} 3"
      ],
      "text/markdown": [
       "**quartz_off_screen:** 3"
      ],
      "text/plain": [
       "quartz_off_screen \n",
       "                3 "
      ]
     },
     "metadata": {},
     "output_type": "display_data"
    },
    {
     "data": {
      "text/html": [
       "<strong>pdf:</strong> 2"
      ],
      "text/latex": [
       "\\textbf{pdf:} 2"
      ],
      "text/markdown": [
       "**pdf:** 2"
      ],
      "text/plain": [
       "pdf \n",
       "  2 "
      ]
     },
     "metadata": {},
     "output_type": "display_data"
    },
    {
     "data": {
      "image/png": "[encoded data removed]",
      "text/plain": [
       "Plot with title “Histogram of to_save$corr_coef”"
      ]
     },
     "metadata": {},
     "output_type": "display_data"
    }
   ],
   "source": [
    "hist(to_save$corr_coef,breaks=100)\n",
    "dev.copy(png,'histogram_sig.png')\n",
    "dev.off()"
   ]
  },
  {
   "cell_type": "code",
   "execution_count": 29,
   "metadata": {},
   "outputs": [
    {
     "name": "stderr",
     "output_type": "stream",
     "text": [
      "Warning message in if (freq) x$counts else x$density:\n",
      "“the condition has length > 1 and only the first element will be used”Warning message in if (!freq) \"Density\" else \"Frequency\":\n",
      "“the condition has length > 1 and only the first element will be used”"
     ]
    },
    {
     "data": {
      "image/png": "[encoded data removed]",
      "text/plain": [
       "Plot with title “Histogram of to_save$corr_coef”"
      ]
     },
     "metadata": {},
     "output_type": "display_data"
    }
   ],
   "source": [
    "hist(to_save$corr_coef,-1:1, breaks=100)"
   ]
  },
  {
   "cell_type": "code",
   "execution_count": 30,
   "metadata": {},
   "outputs": [
    {
     "name": "stderr",
     "output_type": "stream",
     "text": [
      "Warning message in if (freq) x$counts else x$density:\n",
      "“the condition has length > 1 and only the first element will be used”Warning message in if (!freq) \"Density\" else \"Frequency\":\n",
      "“the condition has length > 1 and only the first element will be used”"
     ]
    },
    {
     "data": {
      "image/png": "[encoded data removed]",
      "text/plain": [
       "Plot with title “Histogram of to_save$corr_coef”"
      ]
     },
     "metadata": {},
     "output_type": "display_data"
    }
   ],
   "source": [
    "h_1 <- hist(to_save$corr_coef,-1:1, breaks=100)"
   ]
  },
  {
   "cell_type": "code",
   "execution_count": 31,
   "metadata": {},
   "outputs": [
    {
     "data": {
      "text/html": [
       "<ol class=list-inline>\n",
       "\t<li>-0.8</li>\n",
       "\t<li>-0.78</li>\n",
       "\t<li>-0.76</li>\n",
       "\t<li>-0.74</li>\n",
       "\t<li>-0.72</li>\n",
       "\t<li>-0.7</li>\n",
       "\t<li>-0.68</li>\n",
       "\t<li>-0.66</li>\n",
       "\t<li>-0.64</li>\n",
       "\t<li>-0.62</li>\n",
       "\t<li>-0.6</li>\n",
       "\t<li>-0.58</li>\n",
       "\t<li>-0.56</li>\n",
       "\t<li>-0.54</li>\n",
       "\t<li>-0.52</li>\n",
       "\t<li>-0.5</li>\n",
       "\t<li>-0.48</li>\n",
       "\t<li>-0.46</li>\n",
       "\t<li>-0.44</li>\n",
       "\t<li>-0.42</li>\n",
       "\t<li>-0.4</li>\n",
       "\t<li>-0.38</li>\n",
       "\t<li>-0.36</li>\n",
       "\t<li>-0.34</li>\n",
       "\t<li>-0.32</li>\n",
       "\t<li>-0.3</li>\n",
       "\t<li>-0.28</li>\n",
       "\t<li>-0.26</li>\n",
       "\t<li>-0.24</li>\n",
       "\t<li>-0.22</li>\n",
       "\t<li>-0.2</li>\n",
       "\t<li>-0.18</li>\n",
       "\t<li>-0.16</li>\n",
       "\t<li>-0.14</li>\n",
       "\t<li>-0.12</li>\n",
       "\t<li>-0.1</li>\n",
       "\t<li>-0.0800000000000001</li>\n",
       "\t<li>-0.0600000000000001</li>\n",
       "\t<li>-0.04</li>\n",
       "\t<li>-0.02</li>\n",
       "\t<li>0</li>\n",
       "\t<li>0.02</li>\n",
       "\t<li>0.0399999999999999</li>\n",
       "\t<li>0.0599999999999999</li>\n",
       "\t<li>0.08</li>\n",
       "\t<li>0.1</li>\n",
       "\t<li>0.12</li>\n",
       "\t<li>0.14</li>\n",
       "\t<li>0.16</li>\n",
       "\t<li>0.18</li>\n",
       "\t<li>0.2</li>\n",
       "\t<li>0.22</li>\n",
       "\t<li>0.24</li>\n",
       "\t<li>0.26</li>\n",
       "\t<li>0.28</li>\n",
       "\t<li>0.3</li>\n",
       "\t<li>0.32</li>\n",
       "\t<li>0.34</li>\n",
       "\t<li>0.36</li>\n",
       "\t<li>0.38</li>\n",
       "\t<li>0.4</li>\n",
       "\t<li>0.42</li>\n",
       "\t<li>0.44</li>\n",
       "\t<li>0.46</li>\n",
       "\t<li>0.48</li>\n",
       "\t<li>0.5</li>\n",
       "\t<li>0.52</li>\n",
       "\t<li>0.54</li>\n",
       "\t<li>0.56</li>\n",
       "\t<li>0.58</li>\n",
       "\t<li>0.6</li>\n",
       "\t<li>0.62</li>\n",
       "\t<li>0.64</li>\n",
       "\t<li>0.66</li>\n",
       "\t<li>0.68</li>\n",
       "\t<li>0.7</li>\n",
       "\t<li>0.72</li>\n",
       "\t<li>0.74</li>\n",
       "\t<li>0.76</li>\n",
       "\t<li>0.78</li>\n",
       "\t<li>0.8</li>\n",
       "</ol>\n"
      ],
      "text/latex": [
       "\\begin{enumerate*}\n",
       "\\item -0.8\n",
       "\\item -0.78\n",
       "\\item -0.76\n",
       "\\item -0.74\n",
       "\\item -0.72\n",
       "\\item -0.7\n",
       "\\item -0.68\n",
       "\\item -0.66\n",
       "\\item -0.64\n",
       "\\item -0.62\n",
       "\\item -0.6\n",
       "\\item -0.58\n",
       "\\item -0.56\n",
       "\\item -0.54\n",
       "\\item -0.52\n",
       "\\item -0.5\n",
       "\\item -0.48\n",
       "\\item -0.46\n",
       "\\item -0.44\n",
       "\\item -0.42\n",
       "\\item -0.4\n",
       "\\item -0.38\n",
       "\\item -0.36\n",
       "\\item -0.34\n",
       "\\item -0.32\n",
       "\\item -0.3\n",
       "\\item -0.28\n",
       "\\item -0.26\n",
       "\\item -0.24\n",
       "\\item -0.22\n",
       "\\item -0.2\n",
       "\\item -0.18\n",
       "\\item -0.16\n",
       "\\item -0.14\n",
       "\\item -0.12\n",
       "\\item -0.1\n",
       "\\item -0.0800000000000001\n",
       "\\item -0.0600000000000001\n",
       "\\item -0.04\n",
       "\\item -0.02\n",
       "\\item 0\n",
       "\\item 0.02\n",
       "\\item 0.0399999999999999\n",
       "\\item 0.0599999999999999\n",
       "\\item 0.08\n",
       "\\item 0.1\n",
       "\\item 0.12\n",
       "\\item 0.14\n",
       "\\item 0.16\n",
       "\\item 0.18\n",
       "\\item 0.2\n",
       "\\item 0.22\n",
       "\\item 0.24\n",
       "\\item 0.26\n",
       "\\item 0.28\n",
       "\\item 0.3\n",
       "\\item 0.32\n",
       "\\item 0.34\n",
       "\\item 0.36\n",
       "\\item 0.38\n",
       "\\item 0.4\n",
       "\\item 0.42\n",
       "\\item 0.44\n",
       "\\item 0.46\n",
       "\\item 0.48\n",
       "\\item 0.5\n",
       "\\item 0.52\n",
       "\\item 0.54\n",
       "\\item 0.56\n",
       "\\item 0.58\n",
       "\\item 0.6\n",
       "\\item 0.62\n",
       "\\item 0.64\n",
       "\\item 0.66\n",
       "\\item 0.68\n",
       "\\item 0.7\n",
       "\\item 0.72\n",
       "\\item 0.74\n",
       "\\item 0.76\n",
       "\\item 0.78\n",
       "\\item 0.8\n",
       "\\end{enumerate*}\n"
      ],
      "text/markdown": [
       "1. -0.8\n",
       "2. -0.78\n",
       "3. -0.76\n",
       "4. -0.74\n",
       "5. -0.72\n",
       "6. -0.7\n",
       "7. -0.68\n",
       "8. -0.66\n",
       "9. -0.64\n",
       "10. -0.62\n",
       "11. -0.6\n",
       "12. -0.58\n",
       "13. -0.56\n",
       "14. -0.54\n",
       "15. -0.52\n",
       "16. -0.5\n",
       "17. -0.48\n",
       "18. -0.46\n",
       "19. -0.44\n",
       "20. -0.42\n",
       "21. -0.4\n",
       "22. -0.38\n",
       "23. -0.36\n",
       "24. -0.34\n",
       "25. -0.32\n",
       "26. -0.3\n",
       "27. -0.28\n",
       "28. -0.26\n",
       "29. -0.24\n",
       "30. -0.22\n",
       "31. -0.2\n",
       "32. -0.18\n",
       "33. -0.16\n",
       "34. -0.14\n",
       "35. -0.12\n",
       "36. -0.1\n",
       "37. -0.0800000000000001\n",
       "38. -0.0600000000000001\n",
       "39. -0.04\n",
       "40. -0.02\n",
       "41. 0\n",
       "42. 0.02\n",
       "43. 0.0399999999999999\n",
       "44. 0.0599999999999999\n",
       "45. 0.08\n",
       "46. 0.1\n",
       "47. 0.12\n",
       "48. 0.14\n",
       "49. 0.16\n",
       "50. 0.18\n",
       "51. 0.2\n",
       "52. 0.22\n",
       "53. 0.24\n",
       "54. 0.26\n",
       "55. 0.28\n",
       "56. 0.3\n",
       "57. 0.32\n",
       "58. 0.34\n",
       "59. 0.36\n",
       "60. 0.38\n",
       "61. 0.4\n",
       "62. 0.42\n",
       "63. 0.44\n",
       "64. 0.46\n",
       "65. 0.48\n",
       "66. 0.5\n",
       "67. 0.52\n",
       "68. 0.54\n",
       "69. 0.56\n",
       "70. 0.58\n",
       "71. 0.6\n",
       "72. 0.62\n",
       "73. 0.64\n",
       "74. 0.66\n",
       "75. 0.68\n",
       "76. 0.7\n",
       "77. 0.72\n",
       "78. 0.74\n",
       "79. 0.76\n",
       "80. 0.78\n",
       "81. 0.8\n",
       "\n",
       "\n"
      ],
      "text/plain": [
       " [1] -0.80 -0.78 -0.76 -0.74 -0.72 -0.70 -0.68 -0.66 -0.64 -0.62 -0.60 -0.58\n",
       "[13] -0.56 -0.54 -0.52 -0.50 -0.48 -0.46 -0.44 -0.42 -0.40 -0.38 -0.36 -0.34\n",
       "[25] -0.32 -0.30 -0.28 -0.26 -0.24 -0.22 -0.20 -0.18 -0.16 -0.14 -0.12 -0.10\n",
       "[37] -0.08 -0.06 -0.04 -0.02  0.00  0.02  0.04  0.06  0.08  0.10  0.12  0.14\n",
       "[49]  0.16  0.18  0.20  0.22  0.24  0.26  0.28  0.30  0.32  0.34  0.36  0.38\n",
       "[61]  0.40  0.42  0.44  0.46  0.48  0.50  0.52  0.54  0.56  0.58  0.60  0.62\n",
       "[73]  0.64  0.66  0.68  0.70  0.72  0.74  0.76  0.78  0.80"
      ]
     },
     "metadata": {},
     "output_type": "display_data"
    }
   ],
   "source": [
    "h_1$breaks"
   ]
  },
  {
   "cell_type": "code",
   "execution_count": 32,
   "metadata": {},
   "outputs": [
    {
     "data": {
      "text/html": [
       "<ol class=list-inline>\n",
       "\t<li>1</li>\n",
       "\t<li>2</li>\n",
       "\t<li>5</li>\n",
       "\t<li>3</li>\n",
       "\t<li>3</li>\n",
       "\t<li>9</li>\n",
       "\t<li>17</li>\n",
       "\t<li>40</li>\n",
       "\t<li>102</li>\n",
       "\t<li>127</li>\n",
       "\t<li>198</li>\n",
       "\t<li>266</li>\n",
       "\t<li>407</li>\n",
       "\t<li>483</li>\n",
       "\t<li>729</li>\n",
       "\t<li>1126</li>\n",
       "\t<li>1434</li>\n",
       "\t<li>1618</li>\n",
       "\t<li>2078</li>\n",
       "\t<li>2932</li>\n",
       "\t<li>3508</li>\n",
       "\t<li>4880</li>\n",
       "\t<li>5971</li>\n",
       "\t<li>7886</li>\n",
       "\t<li>9787</li>\n",
       "\t<li>12440</li>\n",
       "\t<li>15936</li>\n",
       "\t<li>20295</li>\n",
       "\t<li>26465</li>\n",
       "\t<li>33004</li>\n",
       "\t<li>42177</li>\n",
       "\t<li>51894</li>\n",
       "\t<li>62023</li>\n",
       "\t<li>72794</li>\n",
       "\t<li>83074</li>\n",
       "\t<li>92797</li>\n",
       "\t<li>101075</li>\n",
       "\t<li>107132</li>\n",
       "\t<li>111106</li>\n",
       "\t<li>111819</li>\n",
       "\t<li>110065</li>\n",
       "\t<li>105879</li>\n",
       "\t<li>99122</li>\n",
       "\t<li>89756</li>\n",
       "\t<li>81968</li>\n",
       "\t<li>71448</li>\n",
       "\t<li>61478</li>\n",
       "\t<li>52176</li>\n",
       "\t<li>43209</li>\n",
       "\t<li>35994</li>\n",
       "\t<li>29415</li>\n",
       "\t<li>23378</li>\n",
       "\t<li>18651</li>\n",
       "\t<li>15057</li>\n",
       "\t<li>11599</li>\n",
       "\t<li>9459</li>\n",
       "\t<li>7657</li>\n",
       "\t<li>5944</li>\n",
       "\t<li>4761</li>\n",
       "\t<li>4178</li>\n",
       "\t<li>3215</li>\n",
       "\t<li>2769</li>\n",
       "\t<li>2306</li>\n",
       "\t<li>1926</li>\n",
       "\t<li>1416</li>\n",
       "\t<li>1051</li>\n",
       "\t<li>734</li>\n",
       "\t<li>501</li>\n",
       "\t<li>345</li>\n",
       "\t<li>279</li>\n",
       "\t<li>217</li>\n",
       "\t<li>102</li>\n",
       "\t<li>67</li>\n",
       "\t<li>38</li>\n",
       "\t<li>23</li>\n",
       "\t<li>10</li>\n",
       "\t<li>22</li>\n",
       "\t<li>9</li>\n",
       "\t<li>0</li>\n",
       "\t<li>1</li>\n",
       "</ol>\n"
      ],
      "text/latex": [
       "\\begin{enumerate*}\n",
       "\\item 1\n",
       "\\item 2\n",
       "\\item 5\n",
       "\\item 3\n",
       "\\item 3\n",
       "\\item 9\n",
       "\\item 17\n",
       "\\item 40\n",
       "\\item 102\n",
       "\\item 127\n",
       "\\item 198\n",
       "\\item 266\n",
       "\\item 407\n",
       "\\item 483\n",
       "\\item 729\n",
       "\\item 1126\n",
       "\\item 1434\n",
       "\\item 1618\n",
       "\\item 2078\n",
       "\\item 2932\n",
       "\\item 3508\n",
       "\\item 4880\n",
       "\\item 5971\n",
       "\\item 7886\n",
       "\\item 9787\n",
       "\\item 12440\n",
       "\\item 15936\n",
       "\\item 20295\n",
       "\\item 26465\n",
       "\\item 33004\n",
       "\\item 42177\n",
       "\\item 51894\n",
       "\\item 62023\n",
       "\\item 72794\n",
       "\\item 83074\n",
       "\\item 92797\n",
       "\\item 101075\n",
       "\\item 107132\n",
       "\\item 111106\n",
       "\\item 111819\n",
       "\\item 110065\n",
       "\\item 105879\n",
       "\\item 99122\n",
       "\\item 89756\n",
       "\\item 81968\n",
       "\\item 71448\n",
       "\\item 61478\n",
       "\\item 52176\n",
       "\\item 43209\n",
       "\\item 35994\n",
       "\\item 29415\n",
       "\\item 23378\n",
       "\\item 18651\n",
       "\\item 15057\n",
       "\\item 11599\n",
       "\\item 9459\n",
       "\\item 7657\n",
       "\\item 5944\n",
       "\\item 4761\n",
       "\\item 4178\n",
       "\\item 3215\n",
       "\\item 2769\n",
       "\\item 2306\n",
       "\\item 1926\n",
       "\\item 1416\n",
       "\\item 1051\n",
       "\\item 734\n",
       "\\item 501\n",
       "\\item 345\n",
       "\\item 279\n",
       "\\item 217\n",
       "\\item 102\n",
       "\\item 67\n",
       "\\item 38\n",
       "\\item 23\n",
       "\\item 10\n",
       "\\item 22\n",
       "\\item 9\n",
       "\\item 0\n",
       "\\item 1\n",
       "\\end{enumerate*}\n"
      ],
      "text/markdown": [
       "1. 1\n",
       "2. 2\n",
       "3. 5\n",
       "4. 3\n",
       "5. 3\n",
       "6. 9\n",
       "7. 17\n",
       "8. 40\n",
       "9. 102\n",
       "10. 127\n",
       "11. 198\n",
       "12. 266\n",
       "13. 407\n",
       "14. 483\n",
       "15. 729\n",
       "16. 1126\n",
       "17. 1434\n",
       "18. 1618\n",
       "19. 2078\n",
       "20. 2932\n",
       "21. 3508\n",
       "22. 4880\n",
       "23. 5971\n",
       "24. 7886\n",
       "25. 9787\n",
       "26. 12440\n",
       "27. 15936\n",
       "28. 20295\n",
       "29. 26465\n",
       "30. 33004\n",
       "31. 42177\n",
       "32. 51894\n",
       "33. 62023\n",
       "34. 72794\n",
       "35. 83074\n",
       "36. 92797\n",
       "37. 101075\n",
       "38. 107132\n",
       "39. 111106\n",
       "40. 111819\n",
       "41. 110065\n",
       "42. 105879\n",
       "43. 99122\n",
       "44. 89756\n",
       "45. 81968\n",
       "46. 71448\n",
       "47. 61478\n",
       "48. 52176\n",
       "49. 43209\n",
       "50. 35994\n",
       "51. 29415\n",
       "52. 23378\n",
       "53. 18651\n",
       "54. 15057\n",
       "55. 11599\n",
       "56. 9459\n",
       "57. 7657\n",
       "58. 5944\n",
       "59. 4761\n",
       "60. 4178\n",
       "61. 3215\n",
       "62. 2769\n",
       "63. 2306\n",
       "64. 1926\n",
       "65. 1416\n",
       "66. 1051\n",
       "67. 734\n",
       "68. 501\n",
       "69. 345\n",
       "70. 279\n",
       "71. 217\n",
       "72. 102\n",
       "73. 67\n",
       "74. 38\n",
       "75. 23\n",
       "76. 10\n",
       "77. 22\n",
       "78. 9\n",
       "79. 0\n",
       "80. 1\n",
       "\n",
       "\n"
      ],
      "text/plain": [
       " [1]      1      2      5      3      3      9     17     40    102    127\n",
       "[11]    198    266    407    483    729   1126   1434   1618   2078   2932\n",
       "[21]   3508   4880   5971   7886   9787  12440  15936  20295  26465  33004\n",
       "[31]  42177  51894  62023  72794  83074  92797 101075 107132 111106 111819\n",
       "[41] 110065 105879  99122  89756  81968  71448  61478  52176  43209  35994\n",
       "[51]  29415  23378  18651  15057  11599   9459   7657   5944   4761   4178\n",
       "[61]   3215   2769   2306   1926   1416   1051    734    501    345    279\n",
       "[71]    217    102     67     38     23     10     22      9      0      1"
      ]
     },
     "metadata": {},
     "output_type": "display_data"
    }
   ],
   "source": [
    "h_1$counts"
   ]
  },
  {
   "cell_type": "code",
   "execution_count": null,
   "metadata": {},
   "outputs": [],
   "source": []
  }
 ],
 "metadata": {
  "kernelspec": {
   "display_name": "R",
   "language": "R",
   "name": "ir"
  },
  "language_info": {
   "codemirror_mode": "r",
   "file_extension": ".r",
   "mimetype": "text/x-r-source",
   "name": "R",
   "pygments_lexer": "r",
   "version": "3.6.1"
  }
 },
 "nbformat": 4,
 "nbformat_minor": 2
}
